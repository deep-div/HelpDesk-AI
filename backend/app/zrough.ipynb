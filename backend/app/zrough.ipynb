{
 "cells": [
  {
   "cell_type": "code",
   "execution_count": 1,
   "id": "c29692cf",
   "metadata": {},
   "outputs": [],
   "source": [
    "import sys\n",
    "sys.path.append(r'C:\\Codes\\01_Personal\\08_Cufuture\\HelpDesk-AI\\.venv\\Lib\\site-packages')\n",
    "sys.path.append(r'C:\\Codes\\01_Personal\\08_Cufuture\\HelpDesk-AI')"
   ]
  },
  {
   "cell_type": "code",
   "execution_count": 56,
   "id": "a1e94090",
   "metadata": {},
   "outputs": [
    {
     "name": "stdout",
     "output_type": "stream",
     "text": [
      "Status Code: 200\n",
      "Response JSON: {'message': 'New complaint added', 'complaint_id': 'e3a36aaf-0d9e-4c2c-b2e0-967587ea37ad'}\n"
     ]
    }
   ],
   "source": [
    "import requests\n",
    "\n",
    "url = \"http://127.0.0.1:8000/register-complaints/\"\n",
    "\n",
    "payload = {\n",
    "    \"name\": \"Alice Smith\",\n",
    "    \"mobile_number\": \"4157463210\",\n",
    "    \"complaints\": { \n",
    "        \"complaint_details\": \"Internet connectivity issues since morning.\",\n",
    "    }\n",
    "}\n",
    "\n",
    "\n",
    "response = requests.post(url, json=payload)\n",
    "\n",
    "print(\"Status Code:\", response.status_code)\n",
    "print(\"Response JSON:\", response.json())"
   ]
  },
  {
   "cell_type": "code",
   "execution_count": 61,
   "id": "d72a8409",
   "metadata": {},
   "outputs": [
    {
     "name": "stdout",
     "output_type": "stream",
     "text": [
      "Status Code: 200\n",
      "Response JSON: {'complaint_id': 'e3a36aaf-0d9e-4c2c-b2e0-967587ea37ad', 'status': 'In Progress', 'details': 'Internet connectivity issues since morning.', 'created_at': '2025-07-04T13:36:24.519000'}\n"
     ]
    }
   ],
   "source": [
    "import requests\n",
    "\n",
    "url = \"http://127.0.0.1:8000/status/\"\n",
    "\n",
    "payload = {\n",
    "        \"mobile_number\": \"4157463210\",\n",
    "        \"complaint_id\": 'e3a36aaf-0d9e-4c2c-b2e0-967587ea37ad',\n",
    "    }\n",
    "\n",
    "\n",
    "response = requests.post(url, json=payload)\n",
    "\n",
    "print(\"Status Code:\", response.status_code)\n",
    "print(\"Response JSON:\", response.json())"
   ]
  }
 ],
 "metadata": {
  "kernelspec": {
   "display_name": "Python 3",
   "language": "python",
   "name": "python3"
  },
  "language_info": {
   "codemirror_mode": {
    "name": "ipython",
    "version": 3
   },
   "file_extension": ".py",
   "mimetype": "text/x-python",
   "name": "python",
   "nbconvert_exporter": "python",
   "pygments_lexer": "ipython3",
   "version": "3.13.2"
  }
 },
 "nbformat": 4,
 "nbformat_minor": 5
}
