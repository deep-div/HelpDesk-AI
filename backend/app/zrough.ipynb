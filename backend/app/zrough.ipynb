{
 "cells": [
  {
   "cell_type": "code",
   "execution_count": 1,
   "id": "c29692cf",
   "metadata": {},
   "outputs": [],
   "source": [
    "import sys\n",
    "sys.path.append(r'C:\\Codes\\01_Personal\\08_Cufuture\\HelpDesk-AI\\.venv\\Lib\\site-packages')\n",
    "sys.path.append(r'C:\\Codes\\01_Personal\\08_Cufuture\\HelpDesk-AI\\backend')"
   ]
  },
  {
   "cell_type": "code",
   "execution_count": 30,
   "id": "a1e94090",
   "metadata": {},
   "outputs": [
    {
     "name": "stdout",
     "output_type": "stream",
     "text": [
      "Status Code: 200\n",
      "Response JSON: {'message': 'Success', 'id': '686696c6cbbde2c2911aa3ec'}\n"
     ]
    }
   ],
   "source": [
    "import requests\n",
    "\n",
    "url = \"http://127.0.0.1:8000/register-complaints/\"\n",
    "\n",
    "payload = {\n",
    "    \"name\": \"Alice Smith\",\n",
    "    \"mobile_number\": \"9876543210\",\n",
    "    \"email\": \"alice.smith@example.com\",\n",
    "    \"complaints\": [\n",
    "        {\n",
    "            \"complaint_details\": \"Internet connectivity issues since morning.\",\n",
    "            \"status\": \"Pending\"\n",
    "        }\n",
    "    ]\n",
    "}\n",
    "\n",
    "\n",
    "response = requests.post(url, json=payload)\n",
    "\n",
    "print(\"Status Code:\", response.status_code)\n",
    "print(\"Response JSON:\", response.json())\n"
   ]
  },
  {
   "cell_type": "code",
   "execution_count": null,
   "id": "09e30b84",
   "metadata": {},
   "outputs": [],
   "source": []
  }
 ],
 "metadata": {
  "kernelspec": {
   "display_name": "Python 3",
   "language": "python",
   "name": "python3"
  },
  "language_info": {
   "codemirror_mode": {
    "name": "ipython",
    "version": 3
   },
   "file_extension": ".py",
   "mimetype": "text/x-python",
   "name": "python",
   "nbconvert_exporter": "python",
   "pygments_lexer": "ipython3",
   "version": "3.13.2"
  }
 },
 "nbformat": 4,
 "nbformat_minor": 5
}
